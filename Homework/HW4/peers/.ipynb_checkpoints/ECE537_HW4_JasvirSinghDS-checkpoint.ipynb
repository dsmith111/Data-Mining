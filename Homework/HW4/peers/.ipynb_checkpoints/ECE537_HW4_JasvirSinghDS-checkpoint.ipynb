{
 "cells": [
  {
   "cell_type": "markdown",
   "metadata": {},
   "source": [
    "<h3>Suppose we observe 11 data points given by:\n",
    "    <br>\n",
    "x = [0:0.1:1]\n",
    "    <br><br>\n",
    "b = sin(2*pi*x)\n",
    "    <br><br>\n",
    "plot(x,b,'go')\n",
    "<br><br>\n",
    "Problem #1\n",
    "<br>\n",
    "Fit the data with a third order polynomial as we did in class and compare the results of the weights, w, with the Taylor series values for thecoefficients of a power series approximation to sine and plot the results. Do the same for a ninth order model, M=9.</h3>"
   ]
  },
  {
   "cell_type": "code",
   "execution_count": 4,
   "metadata": {},
   "outputs": [],
   "source": [
    "import numpy as np\n",
    "import math\n",
    "import matplotlib.pyplot as plt\n"
   ]
  },
  {
   "cell_type": "code",
   "execution_count": 5,
   "metadata": {},
   "outputs": [],
   "source": [
    "#paramter 'm' represents the order\n",
    "def PolynomialFit(m, b):\n",
    "    # initializing design matrix A with zeros\n",
    "    A =np.zeros([11, m+1], dtype = float) \n",
    "    \n",
    "    # first column: All rows are always 1.We already know x[0] is always ON because we need that bias parameter\n",
    "    # second column: All rows will be x values\n",
    "    # third column: all rows will be x sequared \n",
    "    # fourth column: all rows will be x cube\n",
    "    # and so on.....\n",
    "    A[:,0]=1 \n",
    "    for i in range(1,m+1):\n",
    "        A[:,i]=X ** i\n",
    "    \n",
    "    # A.T is A transponse where rows becomes columns\n",
    "    #A.T multiply by A makes the square matrix smaller\n",
    "    \n",
    "    #get weight\n",
    "    w = np.dot(np.linalg.inv(np.dot(A.T, A)),(np.dot(A.T,b)))\n",
    "    print('\\x1b[1;32m'+'here are the weights for M='+ str(m)+' order polynomial:\\n\\n'+'\\x1b[0m')\n",
    "    print('\\x1b[1;32m'+ str(w)+' order polynomial:\\n\\n'+'\\x1b[0m')\n",
    "   \n",
    "\n",
    "    \n",
    "    #guess\n",
    "    y = np.dot(A,w)\n",
    "    print('\\x1b[1;32m'+ 'here is the guess we found:\\n\\n'+'\\x1b[0m')\n",
    "    print('\\x1b[1;32m'+ str(y)+'\\x1b[0m')\n",
    "    \n",
    "    return y"
   ]
  },
  {
   "cell_type": "markdown",
   "metadata": {},
   "source": [
    "<b>generating 11 data points</b>"
   ]
  },
  {
   "cell_type": "code",
   "execution_count": 23,
   "metadata": {},
   "outputs": [
    {
     "data": {
      "text/plain": [
       "array([0. , 0.1, 0.2, 0.3, 0.4, 0.5, 0.6, 0.7, 0.8, 0.9, 1. ])"
      ]
     },
     "execution_count": 23,
     "metadata": {},
     "output_type": "execute_result"
    }
   ],
   "source": [
    "X = np.arange(0, 1.1, 0.1) # start,stop,step\n",
    "X"
   ]
  },
  {
   "cell_type": "code",
   "execution_count": 24,
   "metadata": {},
   "outputs": [
    {
     "data": {
      "text/plain": [
       "array([ 0.00000000e+00,  5.87785252e-01,  9.51056516e-01,  9.51056516e-01,\n",
       "        5.87785252e-01,  1.22464680e-16, -5.87785252e-01, -9.51056516e-01,\n",
       "       -9.51056516e-01, -5.87785252e-01, -2.44929360e-16])"
      ]
     },
     "execution_count": 24,
     "metadata": {},
     "output_type": "execute_result"
    }
   ],
   "source": [
    "b = np.sin(2*np.pi*X)\n",
    "b"
   ]
  },
  {
   "cell_type": "markdown",
   "metadata": {},
   "source": [
    "<b>plotting X Vs b</b>"
   ]
  },
  {
   "cell_type": "code",
   "execution_count": 18,
   "metadata": {},
   "outputs": [
    {
     "data": {
      "text/plain": [
       "[<matplotlib.lines.Line2D at 0x7828466a76d0>]"
      ]
     },
     "execution_count": 18,
     "metadata": {},
     "output_type": "execute_result"
    },
    {
     "data": {
      "image/png": "[encoded data removed]",
      "text/plain": [
       "<Figure size 432x288 with 1 Axes>"
      ]
     },
     "metadata": {
      "needs_background": "light"
     },
     "output_type": "display_data"
    }
   ],
   "source": [
    "plt.plot(X, b, 'go')"
   ]
  },
  {
   "cell_type": "code",
   "execution_count": 19,
   "metadata": {},
   "outputs": [
    {
     "data": {
      "text/plain": [
       "array([ 0.00000000e+00,  5.87785252e-01,  9.51056516e-01,  9.51056516e-01,\n",
       "        5.87785252e-01,  1.22464680e-16, -5.87785252e-01, -9.51056516e-01,\n",
       "       -9.51056516e-01, -5.87785252e-01, -2.44929360e-16])"
      ]
     },
     "execution_count": 19,
     "metadata": {},
     "output_type": "execute_result"
    }
   ],
   "source": [
    "# making b as a column vector to make the matrix multiplication work\n",
    "b = b.T\n",
    "b"
   ]
  },
  {
   "cell_type": "markdown",
   "metadata": {},
   "source": [
    "### Fitting the data with a third order polynomial"
   ]
  },
  {
   "cell_type": "code",
   "execution_count": 20,
   "metadata": {},
   "outputs": [
    {
     "name": "stdout",
     "output_type": "stream",
     "text": [
      "\u001b[1;32mhere are the weights for M=3 order polynomial:\n",
      "\n",
      "\u001b[0m\n",
      "\u001b[1;32m[ -0.06350896  10.723997   -31.79093723  21.19395815] order polynomial:\n",
      "\n",
      "\u001b[0m\n",
      "\u001b[1;32mhere is the guess we found:\n",
      "\n",
      "\u001b[0m\n",
      "\u001b[1;32m[-6.35089622e-02  7.12175324e-01  9.79204614e-01  8.64742657e-01\n",
      "  4.95953203e-01 -3.55271368e-15 -4.95953203e-01 -8.64742657e-01\n",
      " -9.79204614e-01 -7.12175324e-01  6.35089622e-02]\u001b[0m\n"
     ]
    }
   ],
   "source": [
    "m=3\n",
    "y3 = PolynomialFit(3, b)"
   ]
  },
  {
   "cell_type": "markdown",
   "metadata": {},
   "source": [
    "<b>plotting data in green circles and plotting guess in red stars</b>"
   ]
  },
  {
   "cell_type": "code",
   "execution_count": 11,
   "metadata": {},
   "outputs": [
    {
     "data": {
      "text/plain": [
       "<matplotlib.legend.Legend at 0x782846b34910>"
      ]
     },
     "execution_count": 11,
     "metadata": {},
     "output_type": "execute_result"
    },
    {
     "data": {
      "image/png": "[encoded data removed]",
      "text/plain": [
       "<Figure size 432x288 with 1 Axes>"
      ]
     },
     "metadata": {
      "needs_background": "light"
     },
     "output_type": "display_data"
    }
   ],
   "source": [
    "plt.plot(X, b, 'go',  label='data(sine points)')\n",
    "plt.plot(X,y3,'r*', label='guess(polynomian order 3)')\n",
    "plt.legend()"
   ]
  },
  {
   "cell_type": "markdown",
   "metadata": {},
   "source": [
    "We got good agreement between red stars and green circles. Green circles are our actual data. Red stars are our guess.Our model is tracking pretty well to the data."
   ]
  },
  {
   "cell_type": "markdown",
   "metadata": {},
   "source": [
    "<b>error: sum(sqr(guess-target))</b>"
   ]
  },
  {
   "cell_type": "code",
   "execution_count": 12,
   "metadata": {},
   "outputs": [
    {
     "data": {
      "text/plain": [
       "0.07236360201799699"
      ]
     },
     "execution_count": 12,
     "metadata": {},
     "output_type": "execute_result"
    }
   ],
   "source": [
    "error = np.sum(np.square(y3-b))\n",
    "error"
   ]
  },
  {
   "cell_type": "markdown",
   "metadata": {},
   "source": [
    "### Taylor series values for thecoefficients of a power series approximation to sine"
   ]
  },
  {
   "cell_type": "code",
   "execution_count": 14,
   "metadata": {},
   "outputs": [],
   "source": [
    "def getTaylorSeriesValues(x, n):\n",
    "    sin_x=0\n",
    "    for i in range(n+1):\n",
    "        sin_x+=(-1)**i *(x**(2*i+1))/math.factorial(2*i+1)\n",
    "\n",
    "    return sin_x"
   ]
  },
  {
   "cell_type": "code",
   "execution_count": 34,
   "metadata": {},
   "outputs": [
    {
     "data": {
      "text/plain": [
       "<matplotlib.legend.Legend at 0x7828462e95e0>"
      ]
     },
     "execution_count": 34,
     "metadata": {},
     "output_type": "execute_result"
    },
    {
     "data": {
      "image/png": "[encoded data removed]",
      "text/plain": [
       "<Figure size 432x288 with 1 Axes>"
      ]
     },
     "metadata": {
      "needs_background": "light"
     },
     "output_type": "display_data"
    }
   ],
   "source": [
    "m = 3 # third order polynomial\n",
    "\n",
    "ts_x = np.linspace(-0.5,0.5,11)  # taking this range as mentioned by Professor in email: The Taylor series coefficients \n",
    "#for sine are traditionally centered about 0,from -pi to pi, or in our case, from -0.5 to 0.5 for sin(2*pi*x).\n",
    "#This range will give you a better match with the least squares coefficients, vs. the range 0 to 1. \n",
    "sb = (2*np.pi*ts_x)\n",
    "\n",
    "ts_b = getTaylorSeriesValues((2*np.pi*ts_x), 9)\n",
    "#ts_y = PolynomialFit(m, ts_b)\n",
    "\n",
    "plt.plot(X, b, 'go',label='sine data points')\n",
    "plt.plot(ts_x,ts_b,'r*', label='Taylor Series')\n",
    "plt.legend()"
   ]
  },
  {
   "cell_type": "markdown",
   "metadata": {},
   "source": [
    "<b>error: sum(sqr(guess-target))</b>"
   ]
  },
  {
   "cell_type": "code",
   "execution_count": 308,
   "metadata": {},
   "outputs": [
    {
     "data": {
      "text/plain": [
       "6.709489433855732e+21"
      ]
     },
     "execution_count": 308,
     "metadata": {},
     "output_type": "execute_result"
    }
   ],
   "source": [
    "error = np.sum(np.square(ts_y-ts_b))\n",
    "error"
   ]
  },
  {
   "cell_type": "markdown",
   "metadata": {},
   "source": [
    "### Fitting the data with a 9 order polynomial"
   ]
  },
  {
   "cell_type": "code",
   "execution_count": 309,
   "metadata": {},
   "outputs": [
    {
     "name": "stdout",
     "output_type": "stream",
     "text": [
      "\u001b[1;32mhere are the weights for M=9 order polynomial:\n",
      "\n",
      "\u001b[0m\n",
      "\u001b[1;32m[ 9.13458389e-05  6.27828768e+00  1.30703449e-01 -4.28775253e+01\n",
      "  9.92044067e+00  4.25054932e+01  9.83248291e+01 -2.34947754e+02\n",
      "  1.55141174e+02 -3.44758148e+01] order polynomial:\n",
      "\n",
      "\u001b[0m\n",
      "\u001b[1;32mhere is the guess we found:\n",
      "\n",
      "\u001b[0m\n",
      "\u001b[1;32m[ 9.13458389e-05  5.87843069e-01  9.51096247e-01  9.51087646e-01\n",
      "  5.87812671e-01  2.53485960e-05 -5.87763028e-01 -9.51041239e-01\n",
      " -9.51055588e-01 -5.87811555e-01 -7.43252713e-05]\u001b[0m\n"
     ]
    }
   ],
   "source": [
    "m = 9\n",
    "y = PolynomialFit(9, b)"
   ]
  },
  {
   "cell_type": "code",
   "execution_count": 310,
   "metadata": {},
   "outputs": [
    {
     "data": {
      "text/plain": [
       "<matplotlib.legend.Legend at 0x28808ba3860>"
      ]
     },
     "execution_count": 310,
     "metadata": {},
     "output_type": "execute_result"
    },
    {
     "data": {
      "image/png": "[encoded data removed]",
      "text/plain": [
       "<Figure size 432x288 with 1 Axes>"
      ]
     },
     "metadata": {
      "needs_background": "light"
     },
     "output_type": "display_data"
    }
   ],
   "source": [
    "plt.plot(X, b, 'go',  label='data points(SinX)')\n",
    "plt.plot(X, y,'r*', label='Polynomial Order 9')\n",
    "plt.legend()"
   ]
  },
  {
   "cell_type": "markdown",
   "metadata": {},
   "source": [
    "<b>error</b>"
   ]
  },
  {
   "cell_type": "code",
   "execution_count": 311,
   "metadata": {},
   "outputs": [
    {
     "data": {
      "text/plain": [
       "2.2572982845518062e-08"
      ]
     },
     "execution_count": 311,
     "metadata": {},
     "output_type": "execute_result"
    }
   ],
   "source": [
    "error = np.sum(np.square(y-b))\n",
    "error"
   ]
  },
  {
   "cell_type": "code",
   "execution_count": 312,
   "metadata": {},
   "outputs": [],
   "source": [
    "#plt.plot(X, b, 'go',  label='Sine points')\n",
    "#plt.plot(X,ts_y4,'r*', label='Taylor Series Sine')\n",
    "#plt.plot(X,ts_b4,'b*', label='Weight-Based Line 3rd order')\n",
    "#plt.plot(X,ts_b9,'y*', label='Weight-Based Line 9th order')\n",
    "#plt.legend()"
   ]
  },
  {
   "cell_type": "markdown",
   "metadata": {},
   "source": [
    "<h3>Problem #2\n",
    "    <br>\n",
    "    <br>\n",
    "Suppose we were given noisy initial data:\n",
    "    <br>\n",
    "b = sin(2*pi*x) - 0.1 + 0.2*rand(1,11)\n",
    "    <br>\n",
    "Fit the data with several models: M = 0, M = 1, M = 3, and M = 9. Plot and comment on the results.</h3>"
   ]
  },
  {
   "cell_type": "code",
   "execution_count": 313,
   "metadata": {},
   "outputs": [],
   "source": [
    "from numpy import random"
   ]
  },
  {
   "cell_type": "markdown",
   "metadata": {},
   "source": [
    "<b>generating data points</b>"
   ]
  },
  {
   "cell_type": "code",
   "execution_count": 314,
   "metadata": {},
   "outputs": [
    {
     "data": {
      "text/plain": [
       "array([0. , 0.1, 0.2, 0.3, 0.4, 0.5, 0.6, 0.7, 0.8, 0.9, 1. ])"
      ]
     },
     "execution_count": 314,
     "metadata": {},
     "output_type": "execute_result"
    }
   ],
   "source": [
    "X=np.arange(0, 1.1, 0.1) # start,stop,step\n",
    "X"
   ]
  },
  {
   "cell_type": "code",
   "execution_count": 315,
   "metadata": {},
   "outputs": [
    {
     "data": {
      "text/plain": [
       "array([-0.06351538,  0.57584607,  0.89881391,  0.98160108,  0.67871508,\n",
       "        0.04987322, -0.68180802, -1.04871437, -0.85199826, -0.66514315,\n",
       "       -0.0039321 ])"
      ]
     },
     "execution_count": 315,
     "metadata": {},
     "output_type": "execute_result"
    }
   ],
   "source": [
    "b = np.sin(2*np.pi*X)-0.1+0.2*random.rand(1,11)\n",
    "b=b[0]\n",
    "b"
   ]
  },
  {
   "cell_type": "code",
   "execution_count": 316,
   "metadata": {},
   "outputs": [
    {
     "data": {
      "text/plain": [
       "[<matplotlib.lines.Line2D at 0x28808c1d080>]"
      ]
     },
     "execution_count": 316,
     "metadata": {},
     "output_type": "execute_result"
    },
    {
     "data": {
      "image/png": "[encoded data removed]",
      "text/plain": [
       "<Figure size 432x288 with 1 Axes>"
      ]
     },
     "metadata": {
      "needs_background": "light"
     },
     "output_type": "display_data"
    }
   ],
   "source": [
    "plt.plot(X, b, 'go')"
   ]
  },
  {
   "cell_type": "code",
   "execution_count": 317,
   "metadata": {},
   "outputs": [
    {
     "data": {
      "text/plain": [
       "array([-0.06351538,  0.57584607,  0.89881391,  0.98160108,  0.67871508,\n",
       "        0.04987322, -0.68180802, -1.04871437, -0.85199826, -0.66514315,\n",
       "       -0.0039321 ])"
      ]
     },
     "execution_count": 317,
     "metadata": {},
     "output_type": "execute_result"
    }
   ],
   "source": [
    "# making b as a column vector to make the matrix multiplication work\n",
    "b=b.T\n",
    "b"
   ]
  },
  {
   "cell_type": "markdown",
   "metadata": {},
   "source": [
    "### Fitting the data with M=0 order polynomial"
   ]
  },
  {
   "cell_type": "code",
   "execution_count": 318,
   "metadata": {},
   "outputs": [
    {
     "name": "stdout",
     "output_type": "stream",
     "text": [
      "\u001b[1;32mhere are the weights for M=0 order polynomial:\n",
      "\n",
      "\u001b[0m\n",
      "\u001b[1;32m[-0.01184199] order polynomial:\n",
      "\n",
      "\u001b[0m\n",
      "\u001b[1;32mhere is the guess we found:\n",
      "\n",
      "\u001b[0m\n",
      "\u001b[1;32m[-0.01184199 -0.01184199 -0.01184199 -0.01184199 -0.01184199 -0.01184199\n",
      " -0.01184199 -0.01184199 -0.01184199 -0.01184199 -0.01184199]\u001b[0m\n"
     ]
    }
   ],
   "source": [
    "m = 0\n",
    "y0 = PolynomialFit(0, b)"
   ]
  },
  {
   "cell_type": "code",
   "execution_count": 319,
   "metadata": {},
   "outputs": [
    {
     "data": {
      "text/plain": [
       "<matplotlib.legend.Legend at 0x28808c75e80>"
      ]
     },
     "execution_count": 319,
     "metadata": {},
     "output_type": "execute_result"
    },
    {
     "data": {
      "image/png": "[encoded data removed]",
      "text/plain": [
       "<Figure size 432x288 with 1 Axes>"
      ]
     },
     "metadata": {
      "needs_background": "light"
     },
     "output_type": "display_data"
    }
   ],
   "source": [
    "plt.plot(X, b, 'go',  label='data')\n",
    "plt.plot(X, y0,'r*', label='guess(polynomian order 0)')\n",
    "plt.legend()"
   ]
  },
  {
   "cell_type": "markdown",
   "metadata": {},
   "source": [
    "### Fitting the data with M=1 order polynomial"
   ]
  },
  {
   "cell_type": "code",
   "execution_count": 320,
   "metadata": {},
   "outputs": [
    {
     "name": "stdout",
     "output_type": "stream",
     "text": [
      "\u001b[1;32mhere are the weights for M=1 order polynomial:\n",
      "\n",
      "\u001b[0m\n",
      "\u001b[1;32m[ 0.68541396 -1.39451191] order polynomial:\n",
      "\n",
      "\u001b[0m\n",
      "\u001b[1;32mhere is the guess we found:\n",
      "\n",
      "\u001b[0m\n",
      "\u001b[1;32m[ 0.68541396  0.54596277  0.40651158  0.26706039  0.1276092  -0.01184199\n",
      " -0.15129318 -0.29074438 -0.43019557 -0.56964676 -0.70909795]\u001b[0m\n"
     ]
    }
   ],
   "source": [
    "m = 1\n",
    "y1 = PolynomialFit(1, b)"
   ]
  },
  {
   "cell_type": "code",
   "execution_count": 321,
   "metadata": {},
   "outputs": [
    {
     "data": {
      "text/plain": [
       "<matplotlib.legend.Legend at 0x28808ce6588>"
      ]
     },
     "execution_count": 321,
     "metadata": {},
     "output_type": "execute_result"
    },
    {
     "data": {
      "image/png": "[encoded data removed]",
      "text/plain": [
       "<Figure size 432x288 with 1 Axes>"
      ]
     },
     "metadata": {
      "needs_background": "light"
     },
     "output_type": "display_data"
    }
   ],
   "source": [
    "plt.plot(X, b, 'go',  label='data')\n",
    "plt.plot(X, y1,'r*', label='guess(polynomian order 1)')\n",
    "plt.legend()"
   ]
  },
  {
   "cell_type": "markdown",
   "metadata": {},
   "source": [
    "### Fitting the data with M=3 order polynomial"
   ]
  },
  {
   "cell_type": "code",
   "execution_count": 322,
   "metadata": {},
   "outputs": [
    {
     "name": "stdout",
     "output_type": "stream",
     "text": [
      "\u001b[1;32mhere are the weights for M=3 order polynomial:\n",
      "\n",
      "\u001b[0m\n",
      "\u001b[1;32m[ -0.13732867  11.40990909 -33.26366281  22.04659677] order polynomial:\n",
      "\n",
      "\u001b[0m\n",
      "\u001b[1;32mhere is the guess we found:\n",
      "\n",
      "\u001b[0m\n",
      "\u001b[1;32m[-0.13732867  0.69307221  0.99047941  0.88717252  0.51543111  0.00753477\n",
      " -0.50423692 -0.88760439 -1.01028805 -0.74000831  0.05551439]\u001b[0m\n"
     ]
    }
   ],
   "source": [
    "m = 3\n",
    "y3 = PolynomialFit(3, b)"
   ]
  },
  {
   "cell_type": "code",
   "execution_count": 323,
   "metadata": {},
   "outputs": [
    {
     "data": {
      "text/plain": [
       "<matplotlib.legend.Legend at 0x28808d50c50>"
      ]
     },
     "execution_count": 323,
     "metadata": {},
     "output_type": "execute_result"
    },
    {
     "data": {
      "image/png": "[encoded data removed]",
      "text/plain": [
       "<Figure size 432x288 with 1 Axes>"
      ]
     },
     "metadata": {
      "needs_background": "light"
     },
     "output_type": "display_data"
    }
   ],
   "source": [
    "plt.plot(X, b, 'go',  label='data')\n",
    "plt.plot(X, y3, 'r*', label='guess(polynomian order 3)')\n",
    "plt.legend()"
   ]
  },
  {
   "cell_type": "markdown",
   "metadata": {},
   "source": [
    "### Fitting the data with M=9 order polynomial"
   ]
  },
  {
   "cell_type": "code",
   "execution_count": 324,
   "metadata": {},
   "outputs": [
    {
     "name": "stdout",
     "output_type": "stream",
     "text": [
      "\u001b[1;32mhere are the weights for M=9 order polynomial:\n",
      "\n",
      "\u001b[0m\n",
      "\u001b[1;32m[-6.34067959e-02  1.33027994e+01 -1.42905025e+02  1.15620912e+03\n",
      " -5.48755112e+03  1.54936185e+04 -2.71526188e+04  2.89009696e+04\n",
      " -1.69528275e+04  4.17186150e+03] order polynomial:\n",
      "\n",
      "\u001b[0m\n",
      "\u001b[1;32mhere is the guess we found:\n",
      "\n",
      "\u001b[0m\n",
      "\u001b[1;32m[-0.0634068   0.57578522  0.89940277  0.98017865  0.68128293  0.04685079\n",
      " -0.67926754 -1.05017992 -0.85153381 -0.66544541 -0.00428546]\u001b[0m\n"
     ]
    }
   ],
   "source": [
    "m = 9\n",
    "y9 = PolynomialFit(9, b)"
   ]
  },
  {
   "cell_type": "code",
   "execution_count": 325,
   "metadata": {},
   "outputs": [
    {
     "data": {
      "text/plain": [
       "<matplotlib.legend.Legend at 0x28808dc43c8>"
      ]
     },
     "execution_count": 325,
     "metadata": {},
     "output_type": "execute_result"
    },
    {
     "data": {
      "image/png": "[encoded data removed]",
      "text/plain": [
       "<Figure size 432x288 with 1 Axes>"
      ]
     },
     "metadata": {
      "needs_background": "light"
     },
     "output_type": "display_data"
    }
   ],
   "source": [
    "plt.plot(X, b, 'go',  label='data')\n",
    "plt.plot(X, y9, 'r*', label='guess(polynomian order 9)')\n",
    "plt.legend()"
   ]
  },
  {
   "cell_type": "markdown",
   "metadata": {},
   "source": [
    "### Final plot with M=0, M=1, M=3 and M=9 "
   ]
  },
  {
   "cell_type": "code",
   "execution_count": 326,
   "metadata": {},
   "outputs": [
    {
     "data": {
      "text/plain": [
       "<matplotlib.legend.Legend at 0x28808e2fbe0>"
      ]
     },
     "execution_count": 326,
     "metadata": {},
     "output_type": "execute_result"
    },
    {
     "data": {
      "image/png": "[encoded data removed]",
      "text/plain": [
       "<Figure size 432x288 with 1 Axes>"
      ]
     },
     "metadata": {
      "needs_background": "light"
     },
     "output_type": "display_data"
    }
   ],
   "source": [
    "plt.plot(X, b, 'go',  label='data')\n",
    "plt.plot(X,y0,'b*', label='guess(polynomian order 0)')\n",
    "plt.plot(X,y1,'c*', label='guess(polynomian order 1)')\n",
    "plt.plot(X,y3,'m*', label='guess(polynomian order 3)')\n",
    "plt.plot(X,y9,'r*', label='guess(polynomian order 9)')\n",
    "plt.legend()"
   ]
  },
  {
   "cell_type": "markdown",
   "metadata": {},
   "source": [
    "<b> Green circles are actual data points.<br/>\n",
    "    Blue stars are our guess from model M=0.<br/>\n",
    "    Cyan stars are guess from model M=1.<br/>\n",
    "    Magenta stars are guess from model M=3.<br/>\n",
    "    Red stars are guess from model M=9.<br/><br/>\n",
    "    Looking at the above plot, there is a very bad agreement of green circles with Blue(M=0) and Cyan(M=1) stars.<br/>\n",
    "    We got good agreement between Magenta(M=3) stars and green circles.<br/>\n",
    "    The best agreement is between Red(M=9) stars and green circles.<br/>\n",
    "    It seems that as we go on increasing the polynomial order, our model is tracking pretty well to the data.</b>"
   ]
  },
  {
   "cell_type": "code",
   "execution_count": null,
   "metadata": {},
   "outputs": [],
   "source": []
  }
 ],
 "metadata": {
  "kernelspec": {
   "display_name": "Python 3",
   "language": "python",
   "name": "python3"
  },
  "language_info": {
   "codemirror_mode": {
    "name": "ipython",
    "version": 3
   },
   "file_extension": ".py",
   "mimetype": "text/x-python",
   "name": "python",
   "nbconvert_exporter": "python",
   "pygments_lexer": "ipython3",
   "version": "3.8.3"
  }
 },
 "nbformat": 4,
 "nbformat_minor": 4
}
