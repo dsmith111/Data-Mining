{
 "cells": [
  {
   "cell_type": "markdown",
   "metadata": {},
   "source": [
    "<h3>Suppose we observe 11 data points given by:\n",
    "    <br>\n",
    "x = [0:0.1:1]\n",
    "    <br><br>\n",
    "b = sin(2*pi*x)\n",
    "    <br><br>\n",
    "plot(x,b,'go')\n",
    "<br><br>\n",
    "Problem #1\n",
    "<br>\n",
    "Fit the data with a third order polynomial as we did in class and compare the results of the weights, w, with the Taylor series values for thecoefficients of a power series approximation to sine and plot the results. Do the same for a ninth order model, M=9.</h3>"
   ]
  },
  {
   "cell_type": "code",
   "execution_count": 1,
   "metadata": {},
   "outputs": [],
   "source": [
    "import numpy as np\n",
    "import math\n",
    "import matplotlib.pyplot as plt\n"
   ]
  },
  {
   "cell_type": "code",
   "execution_count": 2,
   "metadata": {},
   "outputs": [],
   "source": [
    "#paramter 'm' represents the order\n",
    "def PolynomialFit(m, b):\n",
    "    # initializing design matrix A with zeros\n",
    "    A =np.zeros([11, m+1], dtype = float) \n",
    "    \n",
    "    # first column: All rows are always 1.We already know x[0] is always ON because we need that bias parameter\n",
    "    # second column: All rows will be x values\n",
    "    # third column: all rows will be x sequared \n",
    "    # fourth column: all rows will be x cube\n",
    "    # and so on.....\n",
    "    A[:,0]=1 \n",
    "    for i in range(1,m+1):\n",
    "        A[:,i]=X ** i\n",
    "    \n",
    "    # A.T is A transponse where rows becomes columns\n",
    "    #A.T multiply by A makes the square matrix smaller\n",
    "    \n",
    "    #get weight\n",
    "    w = np.dot(np.linalg.inv(np.dot(A.T, A)),(np.dot(A.T,b)))\n",
    "    print('\\x1b[1;32m'+'here are the weights for M='+ str(m)+' order polynomial:\\n\\n'+'\\x1b[0m')\n",
    "    print('\\x1b[1;32m'+ str(w)+' order polynomial:\\n\\n'+'\\x1b[0m')\n",
    "   \n",
    "\n",
    "    \n",
    "    #guess\n",
    "    y = np.dot(A,w)\n",
    "    print('\\x1b[1;32m'+ 'here is the guess we found:\\n\\n'+'\\x1b[0m')\n",
    "    print('\\x1b[1;32m'+ str(y)+'\\x1b[0m')\n",
    "    \n",
    "    return y"
   ]
  },
  {
   "cell_type": "markdown",
   "metadata": {},
   "source": [
    "<b>generating 11 data points</b>"
   ]
  },
  {
   "cell_type": "code",
   "execution_count": 3,
   "metadata": {},
   "outputs": [
    {
     "data": {
      "text/plain": [
       "array([0. , 0.1, 0.2, 0.3, 0.4, 0.5, 0.6, 0.7, 0.8, 0.9, 1. ])"
      ]
     },
     "execution_count": 3,
     "metadata": {},
     "output_type": "execute_result"
    }
   ],
   "source": [
    "X = np.arange(0, 1.1, 0.1) # start,stop,step\n",
    "X"
   ]
  },
  {
   "cell_type": "code",
   "execution_count": 4,
   "metadata": {},
   "outputs": [
    {
     "data": {
      "text/plain": [
       "array([ 0.00000000e+00,  5.87785252e-01,  9.51056516e-01,  9.51056516e-01,\n",
       "        5.87785252e-01,  1.22464680e-16, -5.87785252e-01, -9.51056516e-01,\n",
       "       -9.51056516e-01, -5.87785252e-01, -2.44929360e-16])"
      ]
     },
     "execution_count": 4,
     "metadata": {},
     "output_type": "execute_result"
    }
   ],
   "source": [
    "b = np.sin(2*np.pi*X)\n",
    "b"
   ]
  },
  {
   "cell_type": "markdown",
   "metadata": {},
   "source": [
    "<b>plotting X Vs b</b>"
   ]
  },
  {
   "cell_type": "code",
   "execution_count": 5,
   "metadata": {},
   "outputs": [
    {
     "data": {
      "text/plain": [
       "[<matplotlib.lines.Line2D at 0x7ef55e937f70>]"
      ]
     },
     "execution_count": 5,
     "metadata": {},
     "output_type": "execute_result"
    },
    {
     "data": {
      "image/png": "[encoded data removed]",
      "text/plain": [
       "<Figure size 432x288 with 1 Axes>"
      ]
     },
     "metadata": {
      "needs_background": "light"
     },
     "output_type": "display_data"
    }
   ],
   "source": [
    "plt.plot(X, b, 'go')"
   ]
  },
  {
   "cell_type": "code",
   "execution_count": 6,
   "metadata": {},
   "outputs": [
    {
     "data": {
      "text/plain": [
       "array([ 0.00000000e+00,  5.87785252e-01,  9.51056516e-01,  9.51056516e-01,\n",
       "        5.87785252e-01,  1.22464680e-16, -5.87785252e-01, -9.51056516e-01,\n",
       "       -9.51056516e-01, -5.87785252e-01, -2.44929360e-16])"
      ]
     },
     "execution_count": 6,
     "metadata": {},
     "output_type": "execute_result"
    }
   ],
   "source": [
    "# making b as a column vector to make the matrix multiplication work\n",
    "b = b.T\n",
    "b"
   ]
  },
  {
   "cell_type": "markdown",
   "metadata": {},
   "source": [
    "### Fitting the data with a third order polynomial"
   ]
  },
  {
   "cell_type": "code",
   "execution_count": 7,
   "metadata": {},
   "outputs": [
    {
     "name": "stdout",
     "output_type": "stream",
     "text": [
      "\u001b[1;32mhere are the weights for M=3 order polynomial:\n",
      "\n",
      "\u001b[0m\n",
      "\u001b[1;32m[ -0.06350896  10.723997   -31.79093723  21.19395815] order polynomial:\n",
      "\n",
      "\u001b[0m\n",
      "\u001b[1;32mhere is the guess we found:\n",
      "\n",
      "\u001b[0m\n",
      "\u001b[1;32m[-6.35089622e-02  7.12175324e-01  9.79204614e-01  8.64742657e-01\n",
      "  4.95953203e-01 -3.55271368e-15 -4.95953203e-01 -8.64742657e-01\n",
      " -9.79204614e-01 -7.12175324e-01  6.35089622e-02]\u001b[0m\n"
     ]
    }
   ],
   "source": [
    "m=3\n",
    "y3 = PolynomialFit(3, b)"
   ]
  },
  {
   "cell_type": "markdown",
   "metadata": {},
   "source": [
    "<b>plotting data in green circles and plotting guess in red stars</b>"
   ]
  },
  {
   "cell_type": "code",
   "execution_count": 8,
   "metadata": {},
   "outputs": [
    {
     "data": {
      "text/plain": [
       "<matplotlib.legend.Legend at 0x7ef55e44ab80>"
      ]
     },
     "execution_count": 8,
     "metadata": {},
     "output_type": "execute_result"
    },
    {
     "data": {
      "image/png": "[encoded data removed]",
      "text/plain": [
       "<Figure size 432x288 with 1 Axes>"
      ]
     },
     "metadata": {
      "needs_background": "light"
     },
     "output_type": "display_data"
    }
   ],
   "source": [
    "plt.plot(X, b, 'go',  label='data(sine points)')\n",
    "plt.plot(X,y3,'r*', label='guess(polynomian order 3)')\n",
    "plt.legend()"
   ]
  },
  {
   "cell_type": "markdown",
   "metadata": {},
   "source": [
    "We got good agreement between red stars and green circles. Green circles are our actual data. Red stars are our guess.Our model is tracking pretty well to the data."
   ]
  },
  {
   "cell_type": "markdown",
   "metadata": {},
   "source": [
    "<b>error: sum(sqr(guess-target))</b>"
   ]
  },
  {
   "cell_type": "code",
   "execution_count": 9,
   "metadata": {},
   "outputs": [
    {
     "data": {
      "text/plain": [
       "0.07236360201799699"
      ]
     },
     "execution_count": 9,
     "metadata": {},
     "output_type": "execute_result"
    }
   ],
   "source": [
    "error = np.sum(np.square(y3-b))\n",
    "error"
   ]
  },
  {
   "cell_type": "markdown",
   "metadata": {},
   "source": [
    "### Taylor series values for thecoefficients of a power series approximation to sine"
   ]
  },
  {
   "cell_type": "code",
   "execution_count": 10,
   "metadata": {},
   "outputs": [],
   "source": [
    "def getTaylorSeriesValues(x, n):\n",
    "    sin_x=0\n",
    "    for i in range(n+1):\n",
    "        sin_x+=(-1)**i *(x**(2*i+1))/math.factorial(2*i+1)\n",
    "\n",
    "    return sin_x"
   ]
  },
  {
   "cell_type": "code",
   "execution_count": 39,
   "metadata": {},
   "outputs": [
    {
     "name": "stdout",
     "output_type": "stream",
     "text": [
      "\u001b[1;32mhere are the weights for M=3 order polynomial:\n",
      "\n",
      "\u001b[0m\n",
      "\u001b[1;32m[  0.06350896 -10.723997    31.79093723 -21.19395816] order polynomial:\n",
      "\n",
      "\u001b[0m\n",
      "\u001b[1;32mhere is the guess we found:\n",
      "\n",
      "\u001b[0m\n",
      "\u001b[1;32m[ 6.35089627e-02 -7.12175323e-01 -9.79204614e-01 -8.64742657e-01\n",
      " -4.95953203e-01  1.06581410e-14  4.95953203e-01  8.64742657e-01\n",
      "  9.79204614e-01  7.12175323e-01 -6.35089627e-02]\u001b[0m\n"
     ]
    },
    {
     "data": {
      "text/plain": [
       "<matplotlib.legend.Legend at 0x7ef55d98d3d0>"
      ]
     },
     "execution_count": 39,
     "metadata": {},
     "output_type": "execute_result"
    },
    {
     "data": {
      "image/png": "[encoded data removed]",
      "text/plain": [
       "<Figure size 432x288 with 1 Axes>"
      ]
     },
     "metadata": {
      "needs_background": "light"
     },
     "output_type": "display_data"
    }
   ],
   "source": [
    "m = 3 # third order polynomial\n",
    "ts_x = np.linspace(-0.5,0.5,11)  # taking this range as mentioned by Professor in email: The Taylor series coefficients \n",
    "#for sine are traditionally centered about 0,from -pi to pi, or in our case, from -0.5 to 0.5 for sin(2*pi*x).\n",
    "#This range will give you a better match with the least squares coefficients, vs. the range 0 to 1. \n",
    "\n",
    "ts_b = getTaylorSeriesValues((2*np.pi*ts_x), 9)\n",
    "ts_y = PolynomialFit(m, ts_b)\n",
    "\n",
    "plt.plot(ts_x, (np.pi*2*ts_x), 'yo', label = 'Sine')\n",
    "plt.plot(ts_x, ts_b, 'go',label='data points')\n",
    "plt.plot(ts_x,ts_y,'r*', label='Taylor Series ( Order 3)')\n",
    "plt.legend()"
   ]
  },
  {
   "cell_type": "markdown",
   "metadata": {},
   "source": [
    "<b>error: sum(sqr(guess-target))</b>"
   ]
  },
  {
   "cell_type": "code",
   "execution_count": 12,
   "metadata": {},
   "outputs": [
    {
     "data": {
      "text/plain": [
       "6.709489433855732e+21"
      ]
     },
     "execution_count": 12,
     "metadata": {},
     "output_type": "execute_result"
    }
   ],
   "source": [
    "error = np.sum(np.square(ts_y-ts_b))\n",
    "error"
   ]
  },
  {
   "cell_type": "markdown",
   "metadata": {},
   "source": [
    "### Fitting the data with a 9 order polynomial"
   ]
  },
  {
   "cell_type": "code",
   "execution_count": 13,
   "metadata": {},
   "outputs": [
    {
     "name": "stdout",
     "output_type": "stream",
     "text": [
      "\u001b[1;32mhere are the weights for M=9 order polynomial:\n",
      "\n",
      "\u001b[0m\n",
      "\u001b[1;32m[ 9.13458389e-05  6.27828768e+00  1.30703449e-01 -4.28775253e+01\n",
      "  9.92044067e+00  4.25054932e+01  9.83248291e+01 -2.34947754e+02\n",
      "  1.55141174e+02 -3.44758148e+01] order polynomial:\n",
      "\n",
      "\u001b[0m\n",
      "\u001b[1;32mhere is the guess we found:\n",
      "\n",
      "\u001b[0m\n",
      "\u001b[1;32m[ 9.13458389e-05  5.87843069e-01  9.51096247e-01  9.51087646e-01\n",
      "  5.87812671e-01  2.53485960e-05 -5.87763028e-01 -9.51041239e-01\n",
      " -9.51055588e-01 -5.87811555e-01 -7.43252713e-05]\u001b[0m\n"
     ]
    }
   ],
   "source": [
    "m = 9\n",
    "y = PolynomialFit(9, b)"
   ]
  },
  {
   "cell_type": "code",
   "execution_count": 14,
   "metadata": {},
   "outputs": [
    {
     "data": {
      "text/plain": [
       "<matplotlib.legend.Legend at 0x7ef55e3aa070>"
      ]
     },
     "execution_count": 14,
     "metadata": {},
     "output_type": "execute_result"
    },
    {
     "data": {
      "image/png": "[encoded data removed]",
      "text/plain": [
       "<Figure size 432x288 with 1 Axes>"
      ]
     },
     "metadata": {
      "needs_background": "light"
     },
     "output_type": "display_data"
    }
   ],
   "source": [
    "plt.plot(X, b, 'go',  label='data points(SinX)')\n",
    "plt.plot(X, y,'r*', label='Polynomial Order 9')\n",
    "plt.legend()"
   ]
  },
  {
   "cell_type": "markdown",
   "metadata": {},
   "source": [
    "<b>error</b>"
   ]
  },
  {
   "cell_type": "code",
   "execution_count": 15,
   "metadata": {},
   "outputs": [
    {
     "data": {
      "text/plain": [
       "2.2572982845518062e-08"
      ]
     },
     "execution_count": 15,
     "metadata": {},
     "output_type": "execute_result"
    }
   ],
   "source": [
    "error = np.sum(np.square(y-b))\n",
    "error"
   ]
  },
  {
   "cell_type": "code",
   "execution_count": 16,
   "metadata": {},
   "outputs": [],
   "source": [
    "#plt.plot(X, b, 'go',  label='Sine points')\n",
    "#plt.plot(X,ts_y4,'r*', label='Taylor Series Sine')\n",
    "#plt.plot(X,ts_b4,'b*', label='Weight-Based Line 3rd order')\n",
    "#plt.plot(X,ts_b9,'y*', label='Weight-Based Line 9th order')\n",
    "#plt.legend()"
   ]
  },
  {
   "cell_type": "markdown",
   "metadata": {},
   "source": [
    "<h3>Problem #2\n",
    "    <br>\n",
    "    <br>\n",
    "Suppose we were given noisy initial data:\n",
    "    <br>\n",
    "b = sin(2*pi*x) - 0.1 + 0.2*rand(1,11)\n",
    "    <br>\n",
    "Fit the data with several models: M = 0, M = 1, M = 3, and M = 9. Plot and comment on the results.</h3>"
   ]
  },
  {
   "cell_type": "code",
   "execution_count": 17,
   "metadata": {},
   "outputs": [],
   "source": [
    "from numpy import random"
   ]
  },
  {
   "cell_type": "markdown",
   "metadata": {},
   "source": [
    "<b>generating data points</b>"
   ]
  },
  {
   "cell_type": "code",
   "execution_count": 18,
   "metadata": {},
   "outputs": [
    {
     "data": {
      "text/plain": [
       "array([0. , 0.1, 0.2, 0.3, 0.4, 0.5, 0.6, 0.7, 0.8, 0.9, 1. ])"
      ]
     },
     "execution_count": 18,
     "metadata": {},
     "output_type": "execute_result"
    }
   ],
   "source": [
    "X=np.arange(0, 1.1, 0.1) # start,stop,step\n",
    "X"
   ]
  },
  {
   "cell_type": "code",
   "execution_count": 19,
   "metadata": {},
   "outputs": [
    {
     "data": {
      "text/plain": [
       "array([ 0.06204992,  0.53014591,  1.0352404 ,  0.97700492,  0.63790847,\n",
       "       -0.01063808, -0.66982967, -0.86364115, -0.99547111, -0.65984317,\n",
       "       -0.00852198])"
      ]
     },
     "execution_count": 19,
     "metadata": {},
     "output_type": "execute_result"
    }
   ],
   "source": [
    "b = np.sin(2*np.pi*X)-0.1+0.2*random.rand(1,11)\n",
    "b=b[0]\n",
    "b"
   ]
  },
  {
   "cell_type": "code",
   "execution_count": 20,
   "metadata": {},
   "outputs": [
    {
     "data": {
      "text/plain": [
       "[<matplotlib.lines.Line2D at 0x7ef55de99610>]"
      ]
     },
     "execution_count": 20,
     "metadata": {},
     "output_type": "execute_result"
    },
    {
     "data": {
      "image/png": "[encoded data removed]",
      "text/plain": [
       "<Figure size 432x288 with 1 Axes>"
      ]
     },
     "metadata": {
      "needs_background": "light"
     },
     "output_type": "display_data"
    }
   ],
   "source": [
    "plt.plot(X, b, 'go')"
   ]
  },
  {
   "cell_type": "code",
   "execution_count": 21,
   "metadata": {},
   "outputs": [
    {
     "data": {
      "text/plain": [
       "array([ 0.06204992,  0.53014591,  1.0352404 ,  0.97700492,  0.63790847,\n",
       "       -0.01063808, -0.66982967, -0.86364115, -0.99547111, -0.65984317,\n",
       "       -0.00852198])"
      ]
     },
     "execution_count": 21,
     "metadata": {},
     "output_type": "execute_result"
    }
   ],
   "source": [
    "# making b as a column vector to make the matrix multiplication work\n",
    "b=b.T\n",
    "b"
   ]
  },
  {
   "cell_type": "markdown",
   "metadata": {},
   "source": [
    "### Fitting the data with M=0 order polynomial"
   ]
  },
  {
   "cell_type": "code",
   "execution_count": 22,
   "metadata": {},
   "outputs": [
    {
     "name": "stdout",
     "output_type": "stream",
     "text": [
      "\u001b[1;32mhere are the weights for M=0 order polynomial:\n",
      "\n",
      "\u001b[0m\n",
      "\u001b[1;32m[0.00312768] order polynomial:\n",
      "\n",
      "\u001b[0m\n",
      "\u001b[1;32mhere is the guess we found:\n",
      "\n",
      "\u001b[0m\n",
      "\u001b[1;32m[0.00312768 0.00312768 0.00312768 0.00312768 0.00312768 0.00312768\n",
      " 0.00312768 0.00312768 0.00312768 0.00312768 0.00312768]\u001b[0m\n"
     ]
    }
   ],
   "source": [
    "m = 0\n",
    "y0 = PolynomialFit(0, b)"
   ]
  },
  {
   "cell_type": "code",
   "execution_count": 23,
   "metadata": {},
   "outputs": [
    {
     "data": {
      "text/plain": [
       "<matplotlib.legend.Legend at 0x7ef55de76220>"
      ]
     },
     "execution_count": 23,
     "metadata": {},
     "output_type": "execute_result"
    },
    {
     "data": {
      "image/png": "[encoded data removed]",
      "text/plain": [
       "<Figure size 432x288 with 1 Axes>"
      ]
     },
     "metadata": {
      "needs_background": "light"
     },
     "output_type": "display_data"
    }
   ],
   "source": [
    "plt.plot(X, b, 'go',  label='data')\n",
    "plt.plot(X, y0,'r*', label='guess(polynomian order 0)')\n",
    "plt.legend()"
   ]
  },
  {
   "cell_type": "markdown",
   "metadata": {},
   "source": [
    "### Fitting the data with M=1 order polynomial"
   ]
  },
  {
   "cell_type": "code",
   "execution_count": 24,
   "metadata": {},
   "outputs": [
    {
     "name": "stdout",
     "output_type": "stream",
     "text": [
      "\u001b[1;32mhere are the weights for M=1 order polynomial:\n",
      "\n",
      "\u001b[0m\n",
      "\u001b[1;32m[ 0.73921771 -1.47218006] order polynomial:\n",
      "\n",
      "\u001b[0m\n",
      "\u001b[1;32mhere is the guess we found:\n",
      "\n",
      "\u001b[0m\n",
      "\u001b[1;32m[ 0.73921771  0.5919997   0.44478169  0.29756369  0.15034568  0.00312768\n",
      " -0.14409033 -0.29130833 -0.43852634 -0.58574434 -0.73296235]\u001b[0m\n"
     ]
    }
   ],
   "source": [
    "m = 1\n",
    "y1 = PolynomialFit(1, b)"
   ]
  },
  {
   "cell_type": "code",
   "execution_count": 25,
   "metadata": {},
   "outputs": [
    {
     "data": {
      "text/plain": [
       "<matplotlib.legend.Legend at 0x7ef55dddc3d0>"
      ]
     },
     "execution_count": 25,
     "metadata": {},
     "output_type": "execute_result"
    },
    {
     "data": {
      "image/png": "[encoded data removed]",
      "text/plain": [
       "<Figure size 432x288 with 1 Axes>"
      ]
     },
     "metadata": {
      "needs_background": "light"
     },
     "output_type": "display_data"
    }
   ],
   "source": [
    "plt.plot(X, b, 'go',  label='data')\n",
    "plt.plot(X, y1,'r*', label='guess(polynomian order 1)')\n",
    "plt.legend()"
   ]
  },
  {
   "cell_type": "markdown",
   "metadata": {},
   "source": [
    "### Fitting the data with M=3 order polynomial"
   ]
  },
  {
   "cell_type": "code",
   "execution_count": 26,
   "metadata": {},
   "outputs": [
    {
     "name": "stdout",
     "output_type": "stream",
     "text": [
      "\u001b[1;32mhere are the weights for M=3 order polynomial:\n",
      "\n",
      "\u001b[0m\n",
      "\u001b[1;32m[ -0.03767381  10.82314551 -32.18596802  21.43388195] order polynomial:\n",
      "\n",
      "\u001b[0m\n",
      "\u001b[1;32mhere is the guess we found:\n",
      "\n",
      "\u001b[0m\n",
      "\u001b[1;32m[-0.03767381  0.74421494  1.01098763  0.89124754  0.51359796  0.00664219\n",
      " -0.50101649 -0.88077477 -1.00402937 -0.742177    0.03338564]\u001b[0m\n"
     ]
    }
   ],
   "source": [
    "m = 3\n",
    "y3 = PolynomialFit(3, b)"
   ]
  },
  {
   "cell_type": "code",
   "execution_count": 27,
   "metadata": {},
   "outputs": [
    {
     "data": {
      "text/plain": [
       "<matplotlib.legend.Legend at 0x7ef55ddb8880>"
      ]
     },
     "execution_count": 27,
     "metadata": {},
     "output_type": "execute_result"
    },
    {
     "data": {
      "image/png": "[encoded data removed]",
      "text/plain": [
       "<Figure size 432x288 with 1 Axes>"
      ]
     },
     "metadata": {
      "needs_background": "light"
     },
     "output_type": "display_data"
    }
   ],
   "source": [
    "plt.plot(X, b, 'go',  label='data')\n",
    "plt.plot(X, y3, 'r*', label='guess(polynomian order 3)')\n",
    "plt.legend()"
   ]
  },
  {
   "cell_type": "markdown",
   "metadata": {},
   "source": [
    "### Fitting the data with M=9 order polynomial"
   ]
  },
  {
   "cell_type": "code",
   "execution_count": 28,
   "metadata": {},
   "outputs": [
    {
     "name": "stdout",
     "output_type": "stream",
     "text": [
      "\u001b[1;32mhere are the weights for M=9 order polynomial:\n",
      "\n",
      "\u001b[0m\n",
      "\u001b[1;32m[ 6.22267865e-02 -2.69447052e+01  7.48085122e+02 -6.74097559e+03\n",
      "  3.15721718e+04 -8.64939926e+04  1.42728617e+05 -1.39303051e+05\n",
      "  7.39796102e+04 -1.64635905e+04] order polynomial:\n",
      "\n",
      "\u001b[0m\n",
      "\u001b[1;32mhere is the guess we found:\n",
      "\n",
      "\u001b[0m\n",
      "\u001b[1;32m[ 0.06222679  0.52943079  1.03879399  0.96765859  0.65438197 -0.03037123\n",
      " -0.65331256 -0.8730417  -0.99189227 -0.66057617 -0.00835918]\u001b[0m\n"
     ]
    }
   ],
   "source": [
    "m = 9\n",
    "y9 = PolynomialFit(9, b)"
   ]
  },
  {
   "cell_type": "code",
   "execution_count": 29,
   "metadata": {},
   "outputs": [
    {
     "data": {
      "text/plain": [
       "<matplotlib.legend.Legend at 0x7ef55dd1d640>"
      ]
     },
     "execution_count": 29,
     "metadata": {},
     "output_type": "execute_result"
    },
    {
     "data": {
      "image/png": "[encoded data removed]",
      "text/plain": [
       "<Figure size 432x288 with 1 Axes>"
      ]
     },
     "metadata": {
      "needs_background": "light"
     },
     "output_type": "display_data"
    }
   ],
   "source": [
    "plt.plot(X, b, 'go',  label='data')\n",
    "plt.plot(X, y9, 'r*', label='guess(polynomian order 9)')\n",
    "plt.legend()"
   ]
  },
  {
   "cell_type": "markdown",
   "metadata": {},
   "source": [
    "### Final plot with M=0, M=1, M=3 and M=9 "
   ]
  },
  {
   "cell_type": "code",
   "execution_count": 30,
   "metadata": {},
   "outputs": [
    {
     "data": {
      "text/plain": [
       "<matplotlib.legend.Legend at 0x7ef55dcd5760>"
      ]
     },
     "execution_count": 30,
     "metadata": {},
     "output_type": "execute_result"
    },
    {
     "data": {
      "image/png": "[encoded data removed]",
      "text/plain": [
       "<Figure size 432x288 with 1 Axes>"
      ]
     },
     "metadata": {
      "needs_background": "light"
     },
     "output_type": "display_data"
    }
   ],
   "source": [
    "plt.plot(X, b, 'go',  label='data')\n",
    "plt.plot(X,y0,'b*', label='guess(polynomian order 0)')\n",
    "plt.plot(X,y1,'c*', label='guess(polynomian order 1)')\n",
    "plt.plot(X,y3,'m*', label='guess(polynomian order 3)')\n",
    "plt.plot(X,y9,'r*', label='guess(polynomian order 9)')\n",
    "plt.legend()"
   ]
  },
  {
   "cell_type": "markdown",
   "metadata": {},
   "source": [
    "<b> Green circles are actual data points.<br/>\n",
    "    Blue stars are our guess from model M=0.<br/>\n",
    "    Cyan stars are guess from model M=1.<br/>\n",
    "    Magenta stars are guess from model M=3.<br/>\n",
    "    Red stars are guess from model M=9.<br/><br/>\n",
    "    Looking at the above plot, there is a very bad agreement of green circles with Blue(M=0) and Cyan(M=1) stars.<br/>\n",
    "    We got good agreement between Magenta(M=3) stars and green circles.<br/>\n",
    "    The best agreement is between Red(M=9) stars and green circles.<br/>\n",
    "    It seems that as we go on increasing the polynomial order, our model is tracking pretty well to the data.</b>"
   ]
  },
  {
   "cell_type": "code",
   "execution_count": null,
   "metadata": {},
   "outputs": [],
   "source": []
  }
 ],
 "metadata": {
  "kernelspec": {
   "display_name": "Python 3",
   "language": "python",
   "name": "python3"
  },
  "language_info": {
   "codemirror_mode": {
    "name": "ipython",
    "version": 3
   },
   "file_extension": ".py",
   "mimetype": "text/x-python",
   "name": "python",
   "nbconvert_exporter": "python",
   "pygments_lexer": "ipython3",
   "version": "3.8.3"
  }
 },
 "nbformat": 4,
 "nbformat_minor": 4
}
