{
 "cells": [
  {
   "cell_type": "code",
   "execution_count": null,
   "metadata": {},
   "outputs": [],
   "source": [
    "def design_matrix(order, x):\n",
    "    \n",
    "    A= np.zeros([len(x), order+1])\n",
    "    for i in range(order+1):\n",
    "        A[:,i] = x**i\n",
    "        \n",
    "    return A\n",
    "\n",
    "    \n",
    "def gradient_descent(target,A, w, epochs):\n",
    "        \n",
    "        cost_hist = np.zeros(epochs)\n",
    "        \n",
    "        for epoch in range(epochs)\n",
    "            guess = np.dot(A, w)\n",
    "            cost_hist[epoch] = cost_estimate(target, guess)\n",
    "            deriv_weights = A.T.dot(target-np.dot(A*w))\n",
    "            w = w - (learning_rate*deriv_weights)\n",
    "    \n",
    "    \n",
    "    return w, cost_hist\n",
    "\n",
    "\n",
    "def cost_estimate(target, guess):\n",
    "    cost = np.sum(np.power(target-guess, 2))\n",
    "    return cost"
   ]
  },
  {
   "cell_type": "code",
   "execution_count": null,
   "metadata": {},
   "outputs": [],
   "source": []
  }
 ],
 "metadata": {
  "kernelspec": {
   "display_name": "Python 3",
   "language": "python",
   "name": "python3"
  },
  "language_info": {
   "codemirror_mode": {
    "name": "ipython",
    "version": 3
   },
   "file_extension": ".py",
   "mimetype": "text/x-python",
   "name": "python",
   "nbconvert_exporter": "python",
   "pygments_lexer": "ipython3",
   "version": "3.8.3"
  }
 },
 "nbformat": 4,
 "nbformat_minor": 4
}
