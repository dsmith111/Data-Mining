{
 "cells": [
  {
   "cell_type": "code",
   "execution_count": 9,
   "metadata": {},
   "outputs": [
    {
     "name": "stdout",
     "output_type": "stream",
     "text": [
      "    User ID  Gender  Age  EstimatedSalary  Purchased\n",
      "0  15624510    Male   19            19000          0\n",
      "1  15810944    Male   35            20000          0\n",
      "2  15668575  Female   26            43000          0\n",
      "3  15603246  Female   27            57000          0\n",
      "4  15804002    Male   19            76000          0\n",
      "\n",
      "\n",
      "    User ID Gender  Age  EstimatedSalary  Purchased\n",
      "0  15624510   Male   19            19000          0\n",
      "400\n",
      "400\n",
      "2\n"
     ]
    },
    {
     "ename": "NameError",
     "evalue": "name 'a' is not defined",
     "output_type": "error",
     "traceback": [
      "\u001b[0;31m---------------------------------------------------------------------------\u001b[0m",
      "\u001b[0;31mNameError\u001b[0m                                 Traceback (most recent call last)",
      "\u001b[0;32m<ipython-input-9-85a0f5de4f32>\u001b[0m in \u001b[0;36m<module>\u001b[0;34m\u001b[0m\n\u001b[1;32m     23\u001b[0m \u001b[0;34m\u001b[0m\u001b[0m\n\u001b[1;32m     24\u001b[0m \u001b[0;31m# predict training data from logistic curve (find w0, w1)\u001b[0m\u001b[0;34m\u001b[0m\u001b[0;34m\u001b[0m\u001b[0;34m\u001b[0m\u001b[0m\n\u001b[0;32m---> 25\u001b[0;31m \u001b[0mtraining\u001b[0m \u001b[0;34m=\u001b[0m \u001b[0ma\u001b[0m\u001b[0;34m\u001b[0m\u001b[0;34m\u001b[0m\u001b[0m\n\u001b[0m\u001b[1;32m     26\u001b[0m \u001b[0;31m# Using this logistic curve, determine threshold, 0.5, which determines cutoff\u001b[0m\u001b[0;34m\u001b[0m\u001b[0;34m\u001b[0m\u001b[0;34m\u001b[0m\u001b[0m\n\u001b[1;32m     27\u001b[0m \u001b[0;31m#from the logistic function (whether the customer will or will not buy)\u001b[0m\u001b[0;34m\u001b[0m\u001b[0;34m\u001b[0m\u001b[0;34m\u001b[0m\u001b[0m\n",
      "\u001b[0;31mNameError\u001b[0m: name 'a' is not defined"
     ]
    }
   ],
   "source": [
    "import math\n",
    "import numpy as np\n",
    "import pandas as pd\n",
    "import matplotlib.pyplot as plt\n",
    "\n",
    "# Read data from csv\n",
    "\n",
    "data = pd.read_csv(\"Social_Network_Ads.csv\")\n",
    "print(data.head(5))\n",
    "print(\"\\n\")\n",
    "print(data[data['User ID'] == 15624510])\n",
    "print(len(data.index))\n",
    "\n",
    "A = np.zeros([len(data.index), 2])\n",
    "\n",
    "A[:,0] = data['Age']\n",
    "A[:,1] = data['Purchased']\n",
    "m, n = A.shape\n",
    "print(m)\n",
    "print(n)\n",
    "# Complete the logistic regression from class\n",
    "\n",
    "\n",
    "# predict training data from logistic curve (find w0, w1)\n",
    "training = a\n",
    "# Using this logistic curve, determine threshold, 0.5, which determines cutoff\n",
    "#from the logistic function (whether the customer will or will not buy)\n",
    "\n",
    "# Find the in-sample error of the model against the training data\n",
    "\n",
    "# Use the test data to estimate the out-of-sample error\n",
    "\n"
   ]
  }
 ],
 "metadata": {
  "kernelspec": {
   "display_name": "Python 3",
   "language": "python",
   "name": "python3"
  },
  "language_info": {
   "codemirror_mode": {
    "name": "ipython",
    "version": 3
   },
   "file_extension": ".py",
   "mimetype": "text/x-python",
   "name": "python",
   "nbconvert_exporter": "python",
   "pygments_lexer": "ipython3",
   "version": "3.8.3"
  }
 },
 "nbformat": 4,
 "nbformat_minor": 4
}
