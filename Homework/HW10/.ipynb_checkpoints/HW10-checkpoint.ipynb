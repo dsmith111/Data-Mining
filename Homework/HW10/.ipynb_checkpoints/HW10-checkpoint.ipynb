{
 "cells": [
  {
   "cell_type": "code",
   "execution_count": 6,
   "metadata": {},
   "outputs": [
    {
     "name": "stdout",
     "output_type": "stream",
     "text": [
      "   edibility  capShape  capColor  gillAttachment  gillColor  stalkColor  \\\n",
      "0          0         0         0               0          0           1   \n",
      "1          1         0         0               0          1           0   \n",
      "2          1         0         0               0          0           0   \n",
      "3          1         1         0               0          0           0   \n",
      "\n",
      "   habitat  \n",
      "0        0  \n",
      "1        1  \n",
      "2        0  \n",
      "3        0  \n",
      "Accuracy on training 0.700\n",
      "Accuracy on testing 0.647\n"
     ]
    }
   ],
   "source": [
    "from sklearn.naive_bayes import MultinomialNB;\n",
    "import pandas as pd;\n",
    "import numpy as np;\n",
    "import matplotlib.pyplot as plt;\n",
    "from sklearn.model_selection import train_test_split;\n",
    "from IPython.display import Image;\n",
    "import pydotplus;\n",
    "from copy import deepcopy;\n",
    "from sklearn.neighbors import KNeighborsClassifier;\n",
    "\n",
    "\n",
    "# Convert String Columns to Categorical\n",
    "def categorizeStrings(Table):\n",
    "    for column in Table.columns:\n",
    "        if type(Table[column][0]) == str:\n",
    "            Table[column] = Table[column].astype(\"category\")\n",
    "            Table[column] = pd.get_dummies(Table[column])\n",
    "            \n",
    "    return Table\n",
    "\n",
    "\n",
    "# Problem 1\n",
    "\n",
    "mushrooms = pd.read_csv(\"mushrooms.csv\")\n",
    "mushrooms = categorizeStrings(mushrooms)\n",
    "print(mushrooms[\"habitat\"].head(4))\n",
    "x_train, x_test, y_train, y_test = train_test_split(mushrooms.drop(\"edibility\", axis=1),mushrooms['edibility'], random_state=42, test_size=.30 )\n",
    "mdl = MultinomialNB()\n",
    "mdl.fit(x_train, y_train)\n",
    "\n",
    "print(\"Accuracy on training {:.3f}\".format(mdl.score(x_train,y_train)))\n",
    "print(\"Accuracy on testing {:.3f}\".format(mdl.score(x_test,y_test)))\n",
    "\n",
    "# dot_data = treeDep.export_graphviz(tree, out_file=None)\n",
    "# graph = pydotplus.graph_from_dot_data(dot_data)\n",
    "# # graph.write_png('./tree.png')\n",
    "# display(Image(graph.create_png()))\n",
    "\n"
   ]
  }
 ],
 "metadata": {
  "kernelspec": {
   "display_name": "Python 3",
   "language": "python",
   "name": "python3"
  },
  "language_info": {
   "codemirror_mode": {
    "name": "ipython",
    "version": 3
   },
   "file_extension": ".py",
   "mimetype": "text/x-python",
   "name": "python",
   "nbconvert_exporter": "python",
   "pygments_lexer": "ipython3",
   "version": "3.7.3"
  }
 },
 "nbformat": 4,
 "nbformat_minor": 2
}
