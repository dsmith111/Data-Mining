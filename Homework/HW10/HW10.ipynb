{
 "cells": [
  {
   "cell_type": "code",
   "execution_count": 79,
   "metadata": {},
   "outputs": [
    {
     "name": "stdout",
     "output_type": "stream",
     "text": [
      "   edibility  capShape_bell  capShape_conical  capShape_convex  capShape_flat  \\\n",
      "0          1              0                 0                0              1   \n",
      "1          0              0                 0                0              1   \n",
      "2          0              0                 0                1              0   \n",
      "3          0              1                 0                0              0   \n",
      "\n",
      "   capShape_sunken  capColor_brown  capColor_buff  capColor_cinnamon  \\\n",
      "0                0               0              0                  0   \n",
      "1                0               0              0                  0   \n",
      "2                0               0              0                  0   \n",
      "3                0               0              0                  0   \n",
      "\n",
      "   capColor_gray  ...  stalkColor_cinnamon  stalkColor_gray  stalkColor_pink  \\\n",
      "0              0  ...                    0                0                0   \n",
      "1              1  ...                    0                0                0   \n",
      "2              0  ...                    0                1                0   \n",
      "3              0  ...                    0                0                0   \n",
      "\n",
      "   stalkColor_white  habitat_grasses  habitat_leaves  habitat_meadows  \\\n",
      "0                 0                0               0                0   \n",
      "1                 1                1               0                0   \n",
      "2                 0                0               0                0   \n",
      "3                 1                0               0                1   \n",
      "\n",
      "   habitat_paths  habitat_urban  habitat_woods  \n",
      "0              0              0              1  \n",
      "1              0              0              0  \n",
      "2              0              0              1  \n",
      "3              0              0              0  \n",
      "\n",
      "[4 rows x 37 columns]\n",
      "Error on training 0.137\n",
      "Error on testing 0.200\n",
      "\n",
      "K-nearest neighbors: 2 neighbors\n",
      "\n",
      "Error on training 0.077\n",
      "Error on testing 0.187\n",
      "\n",
      "Missed Poison Mushrooms in Naive Bayes Classifier\n",
      "\n",
      "Testing Set: 21 out of 150\n",
      "\n",
      "Missed Poison Mushrooms in K-nearest neighbors\n",
      "\n",
      "Testing Set: 26 out of 150\n"
     ]
    },
    {
     "data": {
      "image/png": "[encoded data removed]",
      "text/plain": [
       "<Figure size 432x288 with 2 Axes>"
      ]
     },
     "metadata": {
      "needs_background": "light"
     },
     "output_type": "display_data"
    },
    {
     "data": {
      "image/png": "[encoded data removed]",
      "text/plain": [
       "<Figure size 432x288 with 2 Axes>"
      ]
     },
     "metadata": {
      "needs_background": "light"
     },
     "output_type": "display_data"
    }
   ],
   "source": [
    "from sklearn.naive_bayes import MultinomialNB;\n",
    "import pandas as pd;\n",
    "import numpy as np;\n",
    "import matplotlib.pyplot as plt;\n",
    "from sklearn.model_selection import train_test_split;\n",
    "from IPython.display import Image;\n",
    "import pydotplus;\n",
    "from copy import deepcopy;\n",
    "from sklearn.neighbors import KNeighborsClassifier;\n",
    "from sklearn.metrics import confusion_matrix;\n",
    "import seaborn as sn;\n",
    "from sklearn.metrics import plot_confusion_matrix;\n",
    "\n",
    "# Convert String Columns to Categorical\n",
    "def categorizeStrings(Table):\n",
    "    for column in Table.columns:\n",
    "        if type(Table[column][0]) == str:\n",
    "            Table[column] = Table[column].astype(\"category\")\n",
    "            if column == 'edibility':\n",
    "                Table[column] = Table[column].cat.codes\n",
    "                continue\n",
    "            \n",
    "            Table = Table.join(pd.get_dummies(Table[column], prefix=column))\n",
    "            Table = Table.drop(column, axis=1)\n",
    "            \n",
    "    return Table\n",
    "\n",
    "\n",
    "# Problem 1\n",
    "\n",
    "mushroomsOriginal = pd.read_csv(\"mushrooms.csv\")\n",
    "mushrroms = deepcopy(mushroomsOriginal)\n",
    "mushrooms = categorizeStrings(mushrooms)\n",
    "print(mushrooms.head(4))\n",
    "# targetDrop = list(filter(lambda column: \"edibility\" in column, mushrooms.columns))\n",
    "\n",
    "x_train, x_test, y_train, y_test = train_test_split(mushrooms.drop(\"edibility\", axis=1),mushrooms[\"edibility\"], random_state=42, test_size=.30 )\n",
    "mdl = MultinomialNB()\n",
    "mdl.fit(x_train, y_train)\n",
    "errRateNBTrain = 1 - mdl.score(x_train,y_train)\n",
    "errRateNBTest = 1 - mdl.score(x_test,y_test)\n",
    "\n",
    "print(\"Error on training {:.3f}\".format(errRateNBTrain))\n",
    "print(\"Error on testing {:.3f}\\n\".format(errRateNBTest))\n",
    "\n",
    "# Problem 2\n",
    "# K-nearest Neighbor\n",
    "\n",
    "training_accuracy = []\n",
    "testing_accuracy = []\n",
    "\n",
    "\n",
    "kN = KNeighborsClassifier(n_neighbors=2)\n",
    "kN.fit(x_train, y_train)\n",
    "errRateKNNTrain =1 - kN.score(x_train,y_train)\n",
    "errRateKNNTest = 1 - kN.score(x_test,y_test)\n",
    "        \n",
    "print(\"K-nearest neighbors: 2 neighbors\\n\")\n",
    "print(\"Error on training {:.3f}\".format(errRateKNNTrain))\n",
    "print(\"Error on testing {:.3f}\".format(errRateKNNTest))\n",
    "    \n",
    "# Problem 3\n",
    "\n",
    "# How many mushrooms were missed\n",
    "y_predNB = mdl.predict(x_test)\n",
    "y_predKN = kN.predict(x_test)\n",
    "\n",
    "cm = confusion_matrix(y_test, y_predNB)\n",
    "missedPoisonNBTest = cm[1][0]\n",
    "\n",
    "cm = confusion_matrix(y_test, y_predKN)\n",
    "missedPoisonKNNTest = cm[1][0]\n",
    "\n",
    "print(\"\\nMissed Poison Mushrooms in Naive Bayes Classifier\\n\")\n",
    "print(\"Testing Set: {} out of {}\".format(round(missedPoisonNBTest), len(y_test)))\n",
    "\n",
    "print(\"\\nMissed Poison Mushrooms in K-nearest neighbors\\n\")\n",
    "print(\"Testing Set: {} out of {}\".format(round(missedPoisonKNNTest), len(y_test)))\n",
    "\n",
    "labels = [\"\\nEdible\", \"Poisonous\"]\n",
    "plot_confusion_matrix(mdl, x_test, y_test)\n",
    "plt.title(\"Naive Bayes Confusion Matrix\")\n",
    "plt.xticks(ticks = range(2), labels = labels)\n",
    "plt.yticks(ticks = range(2), labels = labels)\n",
    "plt.show()\n",
    "\n",
    "labels = [\"\\nEdible\", \"Poisonous\"]\n",
    "plot_confusion_matrix(kN, x_test, y_test)\n",
    "plt.title(\"K-Nearest Neighbors Confusion Matrix\")\n",
    "plt.xticks(ticks = range(2), labels = labels)\n",
    "plt.yticks(ticks = range(2), labels = labels)\n",
    "plt.show()"
   ]
  },
  {
   "cell_type": "code",
   "execution_count": 29,
   "metadata": {},
   "outputs": [],
   "source": [
    "mushrooms.to_csv('encodedMushrooms.csv')"
   ]
  }
 ],
 "metadata": {
  "kernelspec": {
   "display_name": "Python 3",
   "language": "python",
   "name": "python3"
  },
  "language_info": {
   "codemirror_mode": {
    "name": "ipython",
    "version": 3
   },
   "file_extension": ".py",
   "mimetype": "text/x-python",
   "name": "python",
   "nbconvert_exporter": "python",
   "pygments_lexer": "ipython3",
   "version": "3.7.3"
  }
 },
 "nbformat": 4,
 "nbformat_minor": 2
}
