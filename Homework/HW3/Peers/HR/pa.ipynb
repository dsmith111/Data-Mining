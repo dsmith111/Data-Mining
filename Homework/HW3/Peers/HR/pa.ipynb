{
 "cells": [
  {
   "cell_type": "code",
   "execution_count": 3,
   "metadata": {},
   "outputs": [
    {
     "name": "stdout",
     "output_type": "stream",
     "text": [
      "Finalized weights: [ 0.0001783  -0.00982505  0.00767787]\n",
      "\n",
      "Idealized weights: [-0.0298217   0.75017495  0.26767787]\n",
      "\n",
      "Error:\n",
      "[-1, 1, 1, -1] \n",
      "Labels:\n",
      "[0, 1, 1, 0] \n",
      "Prediction:\n",
      "[1, 0, 0, 1]\n",
      "\n",
      "\n",
      "Activation array (wx + b) ideal: [array([1.49803112, 1.10035325, 0.61785618, 0.2201783 ]), array([ 0.98803112,  0.72035325,  0.23785618, -0.0298217 ])]\n",
      "\n",
      "\n",
      "Acitvation array Last: [array([-0.00196888, -0.00964675,  0.00785618,  0.0001783 ])]\n",
      "\n",
      "Final Error: \n",
      "4\n",
      "\n",
      "Pocket Error: \n",
      "1\n",
      "\n",
      "(x1, y1): (0, 0.11140890653029902)\n",
      "(x2, y2): (1, -2.691119874270073)\n",
      "\n"
     ]
    },
    {
     "data": {
      "image/png": "[encoded data removed]",
      "text/plain": [
       "<Figure size 432x288 with 1 Axes>"
      ]
     },
     "metadata": {
      "needs_background": "light"
     },
     "output_type": "display_data"
    }
   ],
   "source": [
    "import numpy as np #Importing numpy library \n",
    "import matplotlib.pyplot as plt #Importing Matplot library for plotting graphs\n",
    "\n",
    "from PocketAlgorithm import Perceptron #Importing the Perceptron class \n",
    "\n",
    "#Defining the XOR truth table \n",
    "inputs = []\n",
    "inputs.append(np.array([0,0])) #X1 is ON and X2 is OFF\n",
    "inputs.append(np.array([0,1])) #X1 is OFF and X2 is ON\n",
    "inputs.append(np.array([1,0])) #X1 is ON and X2 is OFF\n",
    "inputs.append(np.array([1,1])) #X1 is ON and X2 is ON\n",
    "\n",
    "#Defining the output for the above truth table \n",
    "expected_output = np.array([0,1,1,0])\n",
    "\n",
    "perceptron = Perceptron(2, 0.01, 680) #Passing 2 to get the default learning rate and iterations\n",
    "perceptron.train_model(inputs, expected_output)\n",
    "\n",
    "inputs = np.array([1, 0]) #To predict data in train model function\n",
    "perceptron.prediction_method(inputs) \n",
    "    \n",
    "inputs = np.array([0, 1]) #To predict data in train model function\n",
    "perceptron.prediction_method(inputs)\n",
    "#Printing weights in the terminal to view the weights\n",
    "print(\"Finalized weights: {}\\n\".format(perceptron.weights))\n",
    "print(\"Idealized weights: {}\\n\".format(perceptron.ideal_weights))\n",
    "print(\"Error:\\n{} \\nLabels:\\n{} \\nPrediction:\\n{}\\n\".format(perceptron.e, perceptron.l, perceptron.p))\n",
    "print(\"\\nActivation array (wx + b) ideal: {}\\n\".format(perceptron.activation))\n",
    "print(\"\\nAcitvation array Last: {}\\n\".format(perceptron.activation2))\n",
    "print(\"Final Error: \\n{}\\n\".format(perceptron.final_error))\n",
    "print(\"Pocket Error: \\n{}\\n\".format(perceptron.count_error))\n",
    "#Defining the graph for the final weights\n",
    "w = perceptron.ideal_weights\n",
    "m = -w[1]/w[2]\n",
    "b = -w[0]/w[2]\n",
    "x = np.array([0,1]) #Defining the boundary of the graph from 0 - 1\n",
    "y1 = m*x[0] + b #Linear line equation y=mx+c\n",
    "y2 = m*x[1] + b\n",
    "fig = plt.figure(1)\n",
    "x0 = np.array([0,0,1,1]) #Truth table for XOR in array 1\n",
    "x1 = np.array([0,1,0,1]) #Truth table for XOR in array 2 \n",
    "XORgate= np.array([0,1,1,0]) #Expected output for the truth table\n",
    "print(\"(x1, y1): {}\\n(x2, y2): {}\\n\".format((x[0], y1), (x[1], y2)))\n",
    "plt.scatter(x0,x1, c=XORgate)\n",
    "plt.plot(x,[y1, y2], label='Final Line', color='blue') #Plot the final line \n",
    "plt.legend() #Displaying the legend\n",
    "plt.legend(loc='lower left', fontsize='small', ncol=2) #Defining the location, size and column of legend\n",
    "plt.title('Pocket Algorithm XOR - CIS(568)') #Title of the graph\n",
    "#plt.axis([-0.2, 1.2, -0.2, 1.2])\n",
    "plt.show() #Show the graph\n"
   ]
  }
 ],
 "metadata": {
  "kernelspec": {
   "display_name": "Python 3",
   "language": "python",
   "name": "python3"
  },
  "language_info": {
   "codemirror_mode": {
    "name": "ipython",
    "version": 3
   },
   "file_extension": ".py",
   "mimetype": "text/x-python",
   "name": "python",
   "nbconvert_exporter": "python",
   "pygments_lexer": "ipython3",
   "version": "3.8.3"
  }
 },
 "nbformat": 4,
 "nbformat_minor": 4
}
