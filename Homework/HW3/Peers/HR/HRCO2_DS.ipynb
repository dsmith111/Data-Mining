{
 "cells": [
  {
   "cell_type": "code",
   "execution_count": 62,
   "metadata": {},
   "outputs": [
    {
     "name": "stdout",
     "output_type": "stream",
     "text": [
      "1.5381818181818183 -2707.254545454546\n",
      "     Years  CO2 Level (ppm)\n",
      "0   1980.0       338.700000\n",
      "1   1982.0       341.100000\n",
      "2   1984.0       344.400000\n",
      "3   1986.0       347.200000\n",
      "4   1988.0       351.500000\n",
      "5   1990.0       354.200000\n",
      "6   1992.0       356.400000\n",
      "7   1994.0       358.900000\n",
      "8   1996.0       362.600000\n",
      "9   1998.0       366.600000\n",
      "10  2000.0       369.400000\n",
      "11  2001.0       370.647273\n",
      "12  2002.0       372.185455\n",
      "13  2003.0       373.723636\n",
      "14  2004.0       375.261818\n",
      "15  2005.0       376.800000\n",
      "16  2006.0       378.338182\n",
      "17  2007.0       379.876364\n",
      "18  2008.0       381.414545\n",
      "19  2009.0       382.952727\n",
      "20  2010.0       384.490909\n",
      "21  2011.0       386.029091\n",
      "22  2012.0       387.567273\n",
      "23  2013.0       389.105455\n",
      "24  2014.0       390.643636\n",
      "25  2015.0       392.181818\n",
      "26  2016.0       393.720000\n",
      "27  2017.0       395.258182\n",
      "28  2018.0       396.796364\n",
      "29  2019.0       398.334545\n",
      "30  2020.0       399.872727\n"
     ]
    },
    {
     "data": {
      "image/png": "[encoded data removed]",
      "text/plain": [
       "<Figure size 432x288 with 1 Axes>"
      ]
     },
     "metadata": {
      "needs_background": "light"
     },
     "output_type": "display_data"
    },
    {
     "name": "stdout",
     "output_type": "stream",
     "text": [
      "1.3919729352550418\n"
     ]
    }
   ],
   "source": [
    "#Importing the required libraries \n",
    "import numpy as np \n",
    "import pandas as pd\n",
    "import matplotlib.pyplot as plt\n",
    "\n",
    "#Adding values to the dataset\n",
    "dataset = pd.DataFrame(np.array([[1980,338.7], [1982,341.1], [1984,344.4], [1986,347.2], [1988,351.5], [1990,354.2], [1992,356.4], [1994,358.9], [1996,362.6], [1998,366.6], [2000,369.4]]), columns=['Years', 'CO2 Level (ppm)'])\n",
    "#Adding values to the axis \n",
    "X = dataset['Years'].values\n",
    "Y = dataset['CO2 Level (ppm)'].values\n",
    "#Calculating the mean \n",
    "x_mean = np.mean(X)\n",
    "y_mean = np.mean(Y)\n",
    "total_no_of_values = len(X) #Stores the total number of values\n",
    "#Formula to calculate the m and b\n",
    "numerator = 0\n",
    "denominator = 0\n",
    "for i in range(total_no_of_values):\n",
    "    numerator += (X[i] - x_mean) * (Y[i] - y_mean)\n",
    "    denominator += (X[i] - x_mean) ** 2\n",
    "    \n",
    "m = numerator / denominator\n",
    "b = y_mean - (m * x_mean)\n",
    "print(m, b)\n",
    "\n",
    "\n",
    "# Predicting and organizing future values\n",
    "\n",
    "future_times = np.array([range(2001,2021)])\n",
    "prediction_val_2020 = b + m* future_times # Using found m and b values to determine future values\n",
    "predicted_array = np.concatenate((future_times.T, prediction_val_2020.T), axis = 1)\n",
    "\n",
    "# Converting array into a data frame and appending it to original\n",
    "predicted_dataset = pd.DataFrame(predicted_array, columns = ['Years', 'CO2 Level (ppm)'])\n",
    "dataset = dataset.append(predicted_dataset, ignore_index = True)\n",
    "\n",
    "# Updating X, and Y matrices for plotting\n",
    "X = dataset['Years'].values\n",
    "Y = dataset['CO2 Level (ppm)'].values\n",
    "\n",
    "# Display table\n",
    "print(dataset)\n",
    "\n",
    "#Plotting values using matplotlib\n",
    "x_max = np.max(X) + 100\n",
    "x_min = np.min(X) - 100\n",
    "x = np.linspace(x_min, x_max, 1000)\n",
    "y = b + m * x\n",
    "\n",
    "#Plotting line \n",
    "plt.plot(x, y, color='blue', label='Linear Regression')\n",
    "#Plot the data point\n",
    "plt.scatter(X, Y, color='red', label='CO2 Level')\n",
    "plt.xlabel('Years') #X-axis label\n",
    "plt.ylabel('CO2 Level (ppm)') #Y-axis label\n",
    "plt.axis([1970, 2030, 300, 500]) #Axis limit\n",
    "plt.legend()\n",
    "plt.show()\n",
    "\n",
    "RootMeanSquaredError = 0\n",
    "for i in range(total_no_of_values):\n",
    "    y_pred = b + m * X[i]\n",
    "    RootMeanSquaredError += (Y[i] - y_pred) ** 2\n",
    "RootMeanSquaredError = np.sqrt(RootMeanSquaredError/m)\n",
    "print(RootMeanSquaredError)"
   ]
  }
 ],
 "metadata": {
  "kernelspec": {
   "display_name": "Python 3",
   "language": "python",
   "name": "python3"
  },
  "language_info": {
   "codemirror_mode": {
    "name": "ipython",
    "version": 3
   },
   "file_extension": ".py",
   "mimetype": "text/x-python",
   "name": "python",
   "nbconvert_exporter": "python",
   "pygments_lexer": "ipython3",
   "version": "3.8.3"
  }
 },
 "nbformat": 4,
 "nbformat_minor": 4
}
