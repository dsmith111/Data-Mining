{
 "cells": [
  {
   "cell_type": "code",
   "execution_count": 10,
   "metadata": {},
   "outputs": [
    {
     "name": "stdout",
     "output_type": "stream",
     "text": [
      "[0. 0. 0. 0. 0. 0. 0. 0. 0. 0.]\n"
     ]
    },
    {
     "data": {
      "image/png": "[encoded data removed]",
      "text/plain": [
       "<Figure size 432x288 with 1 Axes>"
      ]
     },
     "metadata": {
      "needs_background": "light"
     },
     "output_type": "display_data"
    }
   ],
   "source": [
    "import matplotlib.pyplot as plt\n",
    "import numpy as np\n",
    "import random\n",
    "from __future__ import division\n",
    "\n",
    "\n",
    "def find_y(y_array, x_array, x):\n",
    "    # y = mx + b\n",
    "    m = (y_array[1] - y_array[0])/(x_array[1] - x_array[0])\n",
    "    b = y_array[1] - (m*x_array[1])\n",
    "    \n",
    "    y = (m*x) + b\n",
    "    \n",
    "    return y\n",
    "\n",
    "\n",
    "\n",
    "# Define a rectangular box in the XY plane with coordinates (x1, y1) and (x2, y2) as (-2,-2)/(2,2)\n",
    "\n",
    "boundaryx = [-2, 2]\n",
    "boundaryy = [-2, 2]\n",
    "size = 10\n",
    "\n",
    "plt.figure(0)\n",
    "\n",
    "plt.scatter(boundaryx, boundaryy, c = 'white', marker ='.')\n",
    "\n",
    "# Draw a random line across the box\n",
    "line_x = [-2, 2]\n",
    "line_y = [random.randint(-2, 2), random.randint(-2, 2)]\n",
    "plt.plot(line_x, line_y, '-k')\n",
    "\n",
    "#plot 1000 points randomly in the box labeled 1 if above the line and...\n",
    "# 0 if below\n",
    "\n",
    "point_loc = [np.random.rand(1, size)*4 - 2, np.random.rand(1, size)*4 - 2] \n",
    "plt.scatter(point_loc[0], point_loc[1], c = 'b')\n",
    "points = np.zeros(size)\n",
    "\n",
    "for i in range(len(points)):\n",
    "    \n",
    "    temp_y = find_y(line_x, line_y, point_loc[0][i])\n",
    "    points[i] = int(point_loc[1][i] >= temp_y)\n",
    "\n",
    "plt.show()\n",
    "\n",
    "\n",
    "# Remove the line, then starting from random weights, use PLA to separate the data"
   ]
  }
 ],
 "metadata": {
  "kernelspec": {
   "display_name": "Python 3",
   "language": "python",
   "name": "python3"
  },
  "language_info": {
   "codemirror_mode": {
    "name": "ipython",
    "version": 2
   },
   "file_extension": ".py",
   "mimetype": "text/x-python",
   "name": "python",
   "nbconvert_exporter": "python",
   "pygments_lexer": "ipython2",
   "version": "2.7.16"
  }
 },
 "nbformat": 4,
 "nbformat_minor": 2
}
