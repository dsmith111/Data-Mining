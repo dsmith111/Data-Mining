{
 "cells": [
  {
   "cell_type": "code",
   "execution_count": 57,
   "metadata": {},
   "outputs": [
    {
     "data": {
      "image/png": "[encoded data removed]",
      "text/plain": [
       "<Figure size 432x288 with 1 Axes>"
      ]
     },
     "metadata": {
      "needs_background": "light"
     },
     "output_type": "display_data"
    },
    {
     "name": "stdout",
     "output_type": "stream",
     "text": [
      "[0.4783027989224331, 0.4705768450887635, -0.6367579244727715]\n"
     ]
    },
    {
     "data": {
      "image/png": "[encoded data removed]",
      "text/plain": [
       "<Figure size 432x288 with 1 Axes>"
      ]
     },
     "metadata": {
      "needs_background": "light"
     },
     "output_type": "display_data"
    }
   ],
   "source": [
    "import matplotlib.pyplot as plt\n",
    "import numpy as np\n",
    "import random\n",
    "from __future__ import division\n",
    "\n",
    "\n",
    "def find_y(y_array, x_array, x):\n",
    "    # y = mx + b\n",
    "    m = (y_array[1] - y_array[0])/(x_array[1] - x_array[0])\n",
    "    b = y_array[1] - (m*x_array[1])\n",
    "    \n",
    "    y = (m*x) + b\n",
    "    return y\n",
    "\n",
    "\n",
    "# Method which uses the random library to return a weight value between -1 and 1.\n",
    "def initialize_weights(order):\n",
    "    order += 1\n",
    "    # Initialize Weights\n",
    "    w = []\n",
    "\n",
    "    for i in range(order):\n",
    "        w.append(random.random()*2 - 1)\n",
    "        \n",
    "    return w\n",
    "\n",
    "# PLA\n",
    "def PLA(w, x, y, learning_rate, status, threshold)\n",
    "\n",
    "\n",
    "\n",
    "\n",
    "# Define a rectangular box in the XY plane with coordinates (x1, y1) and (x2, y2) as (-2,-2)/(2,2)\n",
    "\n",
    "boundaryx = [-2, 2]\n",
    "boundaryy = [-2, 2]\n",
    "size = 10\n",
    "\n",
    "plt.figure(0)\n",
    "\n",
    "plt.scatter(boundaryx, boundaryy, c = 'white', marker ='.')\n",
    "\n",
    "# Draw a random line across the box\n",
    "line_x = [-2, 2]\n",
    "line_y = [random.randint(-2, 2), random.randint(-2, 2)]\n",
    "plt.plot(line_x, line_y, '-k')\n",
    "\n",
    "#plot 1000 points randomly in the box labeled 1 if above the line and...\n",
    "# 0 if below\n",
    "\n",
    "point_loc = [np.random.rand(size)*4 - 2, np.random.rand(size)*4 - 2] \n",
    "points = {'x':point_loc[0],'y':point_loc[1], 'status':np.zeros(size)}\n",
    "\n",
    "\n",
    "for i in range(size):\n",
    "    \n",
    "    temp_y = find_y(line_y, line_x, points['x'][i])\n",
    "    if points['y'][i] >= temp_y:\n",
    "        points['status'][i] = 1\n",
    "    else:\n",
    "        points['status'][i] = 0\n",
    "\n",
    "\n",
    "for i in range(size):\n",
    "    if points['status'][i] == 1:\n",
    "        plt.scatter(points['x'][i], points['y'][i], c = 'b')\n",
    "    else:\n",
    "        plt.scatter(points['x'][i], points['y'][i], c = 'r')\n",
    "        \n",
    "\n",
    "\n",
    "plt.title(\"Initial Random Plot\")\n",
    "plt.show()\n",
    "\n",
    "\n",
    "# Remove the line, then starting from random weights, use PLA to separate the data\n",
    "plt.figure(1)\n",
    "\n",
    "for i in range(size):\n",
    "    if points['status'][i] == 1:\n",
    "        plt.scatter(points['x'][i], points['y'][i], c = 'b')\n",
    "    else:\n",
    "        plt.scatter(points['x'][i], points['y'][i], c = 'r')\n",
    "\n",
    "learning_rate = 0.01\n",
    "w = initialize_weights(2)\n",
    "\n",
    "print(\"_____________________________________________\")\n",
    "\n",
    "print(w)\n",
    "\n",
    "\n",
    "\n"
   ]
  }
 ],
 "metadata": {
  "kernelspec": {
   "display_name": "Python 3",
   "language": "python",
   "name": "python3"
  },
  "language_info": {
   "codemirror_mode": {
    "name": "ipython",
    "version": 2
   },
   "file_extension": ".py",
   "mimetype": "text/x-python",
   "name": "python",
   "nbconvert_exporter": "python",
   "pygments_lexer": "ipython2",
   "version": "2.7.16"
  }
 },
 "nbformat": 4,
 "nbformat_minor": 2
}
