{
 "cells": [
  {
   "cell_type": "code",
   "execution_count": 84,
   "metadata": {},
   "outputs": [
    {
     "data": {
      "image/png": "[encoded data removed]",
      "text/plain": [
       "<Figure size 432x288 with 1 Axes>"
      ]
     },
     "metadata": {
      "needs_background": "light"
     },
     "output_type": "display_data"
    },
    {
     "data": {
      "image/png": "[encoded data removed]",
      "text/plain": [
       "<Figure size 432x288 with 1 Axes>"
      ]
     },
     "metadata": {
      "needs_background": "light"
     },
     "output_type": "display_data"
    },
    {
     "data": {
      "image/png": "[encoded data removed]",
      "text/plain": [
       "<Figure size 432x288 with 1 Axes>"
      ]
     },
     "metadata": {
      "needs_background": "light"
     },
     "output_type": "display_data"
    }
   ],
   "source": [
    "import matplotlib.pyplot as plt\n",
    "import numpy as np\n",
    "import random\n",
    "from __future__ import division\n",
    "\n",
    "\n",
    "\n",
    "def cost_estimate(target, guess):\n",
    "    cost = np.sum(np.power(target-guess, 2))\n",
    "    return cost\n",
    "\n",
    "\n",
    "def pseudo_inverse(x, b, order):\n",
    "    \n",
    "    A = design_matrix(order, x)\n",
    "    w = np.dot(np.linalg.inv(np.dot(A.T,A)),np.dot(A.T,b))\n",
    "    y = np.dot(A, w)\n",
    "    return (w, y, A)\n",
    "\n",
    "\n",
    "def design_matrix(order, x):\n",
    "    order += 1\n",
    "    A= np.zeros([len(x), order])\n",
    "    for i in range(order):\n",
    "        A[:,i] = x**i\n",
    "        \n",
    "    return A\n",
    "\n",
    "def sample_error(guess, target):\n",
    "    error = (1/len(target)) * np.sum((guess - target)**2)\n",
    "    return error\n",
    "\n",
    "\n",
    "# Vary N\n",
    "# In a given experiment, we observe N data points by:\n",
    "\n",
    "const_N = 10\n",
    "super_iterations = 75\n",
    "\n",
    "learning2 = []\n",
    "learning10 = []\n",
    "\n",
    "inlearning2 = []\n",
    "inlearning10 = []\n",
    "n_array = []\n",
    "\n",
    "for i in range(super_iterations):\n",
    "    \n",
    "    N = const_N * (i+1)\n",
    "    \n",
    "    # Delta is such that you observe N points, e.g. if delta = 0.1, you will observe (1/delta+1) = 11 data points.\n",
    "    #delta = 1/(N-1)\n",
    "\n",
    "    x = np.linspace(-0.5, 0.5, N)\n",
    "    y_sin = np.sin(2*np.pi*x)\n",
    "    iterations = 150\n",
    "    E2_avg_out = []\n",
    "    E10_avg_out = []\n",
    "    E2_avg_in = []\n",
    "    E10_avg_in = []\n",
    "\n",
    "    # Experiment Setup\n",
    "    for i in range(iterations):\n",
    "\n",
    "        b = y_sin - 0.1 + 0.2*np.random.rand(1, N)\n",
    "        b = b[0]\n",
    "        # plot (x,y_sin) against (x, b)\n",
    "\n",
    "        # Split the data 80/20 (k = N/5), into training/testing sets so that we can estimate the out-of-sample error\n",
    "\n",
    "        split = int(N*.8)\n",
    "        trainingx = x[:split]\n",
    "        testingx = x[split:]\n",
    "        target_training = b[:split]\n",
    "        target_testing = b[split:]\n",
    "\n",
    "        # Suppose we have two models, a second order model and a 10th order model that we fit to data with linear regression. Let y2 and y10 be the...\n",
    "        # best fit hypotheses to the data from the 2nd and 10th order models. Run a large number of experiments with a fixed value of N, each time computing Eout\n",
    "\n",
    "        # Second order model\n",
    "        w2, y2, A2 = pseudo_inverse(trainingx, target_training, 2)\n",
    "        E2_in = sample_error(y2, target_training)\n",
    "        A2_test = design_matrix(2, target_testing)\n",
    "        y2_test = np.dot(A2_test, w2)\n",
    "\n",
    "        E2_out = sample_error(y2_test, target_testing)\n",
    "        E2_avg_out.append(E2_out)\n",
    "        E2_avg_in.append(E2_in)\n",
    "        # Tenth order model\n",
    "\n",
    "        w10, y10, A10 = pseudo_inverse(trainingx, target_training, 10)\n",
    "\n",
    "        E10_in = sample_error(y10, target_training)\n",
    "        A10_test = design_matrix(10, target_testing)\n",
    "        y10_test = np.dot(A10_test, w10)\n",
    "\n",
    "        E10_out = sample_error(y10_test, target_testing)\n",
    "        E10_avg_out.append(E10_out)\n",
    "        E10_avg_in.append(E10_in)\n",
    "\n",
    "    # let Eout = average_over_experiments(E_out(y#))\n",
    "    E2_avg = np.sum(E2_avg_out)/len(E2_avg_out)\n",
    "    E10_avg = np.sum(E10_avg_out)/len(E10_avg_out)\n",
    "    inE2_avg = np.sum(E2_avg_in)/len(E2_avg_in)\n",
    "    inE10_avg = np.sum(E10_avg_in)/len(E10_avg_in)\n",
    "    \n",
    "    learning2.append(E2_avg)\n",
    "    learning10.append(E10_avg)\n",
    "    inlearning2.append(inE2_avg)\n",
    "    inlearning10.append(inE10_avg)\n",
    "    n_array.append(N)\n",
    "    \n",
    "    #plt.figure(0)\n",
    "    #plt.scatter(range(iterations), E2_avg_out)\n",
    "    #print(E2_avg)\n",
    "\n",
    "    #plt.figure(1)\n",
    "    #plt.scatter(range(iterations), E10_avg_out)\n",
    "    #print(E10_avg)\n",
    "\n",
    "plt.figure(0)\n",
    "plt.scatter(n_array, learning2, c = 'red', marker = \"x\" , label = \"2nd Order Eout\")\n",
    "plt.figure(3)\n",
    "plt.scatter(n_array, inlearning2, c = 'blue', marker = \"x\" , label = \"2nd Order Ein\")\n",
    "plt.title(\"Second Order Model\")\n",
    "plt.legend()\n",
    "\n",
    "plt.figure(1)\n",
    "plt.scatter(n_array, learning10, c = 'red', marker = \"+\", label = \"10th Order Eout\")\n",
    "plt.scatter(n_array, inlearning10, c = 'blue', marker = \"+\", label = \"10th Order Ein\")\n",
    "plt.title(\"First Order Model\")\n",
    "plt.legend()\n",
    "plt.show()\n",
    "\n"
   ]
  }
 ],
 "metadata": {
  "kernelspec": {
   "display_name": "Python 3",
   "language": "python",
   "name": "python3"
  },
  "language_info": {
   "codemirror_mode": {
    "name": "ipython",
    "version": 2
   },
   "file_extension": ".py",
   "mimetype": "text/x-python",
   "name": "python",
   "nbconvert_exporter": "python",
   "pygments_lexer": "ipython2",
   "version": "2.7.16"
  }
 },
 "nbformat": 4,
 "nbformat_minor": 2
}
